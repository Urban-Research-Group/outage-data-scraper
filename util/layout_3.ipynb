{
 "cells": [
  {
   "cell_type": "code",
   "execution_count": 27,
   "id": "8a43cc31",
   "metadata": {},
   "outputs": [],
   "source": [
    "import requests\n",
    "from bs4 import BeautifulSoup\n",
    "from selenium import webdriver\n",
    "from selenium.webdriver.common.desired_capabilities import DesiredCapabilities\n",
    "import time\n",
    "import json\n",
    "from datetime import date\n",
    "from dateutil.parser import parse\n",
    "import pandas as pd\n",
    "import xml.etree.ElementTree as ET"
   ]
  },
  {
   "cell_type": "code",
   "execution_count": 34,
   "id": "860d2758",
   "metadata": {},
   "outputs": [],
   "source": [
    "url = 'http://oms.coastalemc.com/OMSWebMap/OMSWebMap.htm?clientKey=undefined' #Coastal Electric Cooperation\n",
    "chrome_driver_path = '/Users/xuanedx1/Desktop/URG/web-scaper/chromedriver'"
   ]
  },
  {
   "cell_type": "code",
   "execution_count": 35,
   "id": "97160069",
   "metadata": {},
   "outputs": [],
   "source": [
    "def get_logs(url):\n",
    "\n",
    "    desired_capabilities = DesiredCapabilities.CHROME\n",
    "    desired_capabilities[\"goog:loggingPrefs\"] = {\"performance\": \"ALL\"}\n",
    "\n",
    "    # Create the webdriver object and pass the arguments\n",
    "    options = webdriver.ChromeOptions()\n",
    "\n",
    "    # Chrome will start in Headless mode\n",
    "    options.add_argument('headless')\n",
    "\n",
    "    # Ignores any certificate errors if there is any\n",
    "    options.add_argument(\"--ignore-certificate-errors\")\n",
    "\n",
    "    # Startup the chrome webdriver with executable path and\n",
    "    # pass the chrome options and desired capabilities as\n",
    "    # parameters.\n",
    "    driver = webdriver.Chrome(executable_path=chrome_driver_path,\n",
    "                              chrome_options=options,\n",
    "                              desired_capabilities=desired_capabilities)\n",
    "\n",
    "    # Send a request to the website and let it load\n",
    "    driver.get(url)\n",
    "\n",
    "    # Sleeps for 5 seconds\n",
    "    time.sleep(5)\n",
    "\n",
    "    logs_raw = driver.get_log(\"performance\")\n",
    "    logs = [json.loads(lr[\"message\"])[\"message\"] for lr in logs_raw]\n",
    "    \n",
    "    return driver, logs\n"
   ]
  },
  {
   "cell_type": "code",
   "execution_count": 36,
   "id": "4588d679",
   "metadata": {},
   "outputs": [],
   "source": [
    "def summary_filter(log_):\n",
    "    return (\n",
    "        # is an actual response\n",
    "        log_[\"method\"] == \"Network.responseReceived\"\n",
    "        # and json\n",
    "        and \"xml\" in log_[\"params\"][\"response\"][\"mimeType\"]\n",
    "        and \"GetStagingInfo\" in log_[\"params\"][\"response\"][\"url\"]\n",
    "    )\n",
    "\n",
    "def report_filter(log_):\n",
    "    return (\n",
    "        # is an actual response\n",
    "        log_[\"method\"] == \"Network.responseReceived\"\n",
    "        # and json\n",
    "        and \"xml\" in log_[\"params\"][\"response\"][\"mimeType\"]\n",
    "        and \"GetAllCounties\" in log_[\"params\"][\"response\"][\"url\"]\n",
    "    )"
   ]
  },
  {
   "cell_type": "code",
   "execution_count": 37,
   "id": "3be4f6d6",
   "metadata": {},
   "outputs": [],
   "source": [
    "def get_layout_3_df(url):\n",
    "    driver, logs = get_logs(url)\n",
    "    \n",
    "    summary_response = \"\"\n",
    "    for log in filter(summary_filter, logs):\n",
    "        request_id = log[\"params\"][\"requestId\"]\n",
    "        resp_url = log[\"params\"][\"response\"][\"url\"]\n",
    "        print(f\"Caught {resp_url}\")\n",
    "        summary_response = driver.execute_cdp_cmd(\"Network.getResponseBody\", {\"requestId\": request_id})['body']\n",
    "        \n",
    "    tree = ET.ElementTree(ET.fromstring(summary_response))\n",
    "    root = tree.getroot()\n",
    "    timestamp = date.today().strftime(\"%B %d, %Y\") + \" \" + root[0].text\n",
    "    \n",
    "    report_response = \"\"\n",
    "    for log in filter(report_filter, logs):\n",
    "        request_id = log[\"params\"][\"requestId\"]\n",
    "        resp_url = log[\"params\"][\"response\"][\"url\"]\n",
    "        print(f\"Caught {resp_url}\")\n",
    "        report_response = driver.execute_cdp_cmd(\"Network.getResponseBody\", {\"requestId\": request_id})['body']\n",
    "    \n",
    "    layout_3_df = pd.read_xml(report_response)\n",
    "    layout_3_df.insert(loc=0, column='timestamp', value=timestamp)\n",
    "    \n",
    "    return layout_3_df"
   ]
  },
  {
   "cell_type": "code",
   "execution_count": 38,
   "id": "8fbe1cad",
   "metadata": {},
   "outputs": [
    {
     "name": "stderr",
     "output_type": "stream",
     "text": [
      "/var/folders/3j/7cy055ys1yz5dcj9cwbxbw8h0000gp/T/ipykernel_55148/3593499440.py:18: DeprecationWarning: executable_path has been deprecated, please pass in a Service object\n",
      "  driver = webdriver.Chrome(executable_path=chrome_driver_path,\n",
      "/var/folders/3j/7cy055ys1yz5dcj9cwbxbw8h0000gp/T/ipykernel_55148/3593499440.py:18: DeprecationWarning: use options instead of chrome_options\n",
      "  driver = webdriver.Chrome(executable_path=chrome_driver_path,\n"
     ]
    },
    {
     "ename": "ParseError",
     "evalue": "no element found: line 1, column 0 (<string>)",
     "output_type": "error",
     "traceback": [
      "Traceback \u001B[0;36m(most recent call last)\u001B[0m:\n",
      "  File \u001B[1;32m~/opt/anaconda3/envs/playground/lib/python3.10/site-packages/IPython/core/interactiveshell.py:3398\u001B[0m in \u001B[1;35mrun_code\u001B[0m\n    exec(code_obj, self.user_global_ns, self.user_ns)\n",
      "  Input \u001B[1;32mIn [38]\u001B[0m in \u001B[1;35m<cell line: 1>\u001B[0m\n    get_layout_3_df(url)\n",
      "  Input \u001B[1;32mIn [37]\u001B[0m in \u001B[1;35mget_layout_3_df\u001B[0m\n    tree = ET.ElementTree(ET.fromstring(summary_response))\n",
      "\u001B[0;36m  File \u001B[0;32m~/opt/anaconda3/envs/playground/lib/python3.10/xml/etree/ElementTree.py:1343\u001B[0;36m in \u001B[0;35mXML\u001B[0;36m\u001B[0m\n\u001B[0;31m    return parser.close()\u001B[0m\n",
      "\u001B[0;36m  File \u001B[0;32m<string>\u001B[0;36m\u001B[0m\n\u001B[0;31mParseError\u001B[0m\u001B[0;31m:\u001B[0m no element found: line 1, column 0\n"
     ]
    }
   ],
   "source": [
    "get_layout_3_df(url)"
   ]
  },
  {
   "cell_type": "code",
   "execution_count": 7,
   "id": "8b732cea",
   "metadata": {},
   "outputs": [
    {
     "name": "stderr",
     "output_type": "stream",
     "text": [
      "C:\\Users\\saira\\AppData\\Local\\Temp\\ipykernel_4292\\1350414708.py:18: DeprecationWarning: executable_path has been deprecated, please pass in a Service object\n",
      "  driver = webdriver.Chrome(executable_path=chrome_driver_path,\n",
      "C:\\Users\\saira\\AppData\\Local\\Temp\\ipykernel_4292\\1350414708.py:18: DeprecationWarning: use options instead of chrome_options\n",
      "  driver = webdriver.Chrome(executable_path=chrome_driver_path,\n"
     ]
    },
    {
     "name": "stdout",
     "output_type": "stream",
     "text": [
      "Caught http://map.irwinemc.com/omswebmap/MobileMap/OMSMobileService.asmx/GetStagingInfo\n",
      "Caught http://map.irwinemc.com/omswebmap/MobileMap/OMSMobileService.asmx/GetAllCounties\n",
      "Caught http://map.irwinemc.com/omswebmap/MobileMap/OMSMobileService.asmx/GetAllCounties\n"
     ]
    },
    {
     "data": {
      "text/html": [
       "<div>\n",
       "<style scoped>\n",
       "    .dataframe tbody tr th:only-of-type {\n",
       "        vertical-align: middle;\n",
       "    }\n",
       "\n",
       "    .dataframe tbody tr th {\n",
       "        vertical-align: top;\n",
       "    }\n",
       "\n",
       "    .dataframe thead th {\n",
       "        text-align: right;\n",
       "    }\n",
       "</style>\n",
       "<table border=\"1\" class=\"dataframe\">\n",
       "  <thead>\n",
       "    <tr style=\"text-align: right;\">\n",
       "      <th></th>\n",
       "      <th>timestamp</th>\n",
       "      <th>CountyName</th>\n",
       "      <th>CustomersServed</th>\n",
       "      <th>CustomersAffected</th>\n",
       "      <th>Shape</th>\n",
       "    </tr>\n",
       "  </thead>\n",
       "  <tbody>\n",
       "    <tr>\n",
       "      <th>0</th>\n",
       "      <td>November 03, 2022 03:48 PM</td>\n",
       "      <td>Worth</td>\n",
       "      <td>47</td>\n",
       "      <td>0</td>\n",
       "      <td>-83.666,31.468;-83.666,31.458;-83.666,31.452;-...</td>\n",
       "    </tr>\n",
       "    <tr>\n",
       "      <th>1</th>\n",
       "      <td>November 03, 2022 03:48 PM</td>\n",
       "      <td>Coffee</td>\n",
       "      <td>106</td>\n",
       "      <td>0</td>\n",
       "      <td>-83.135,31.473;-83.134,31.473;-83.13,31.474;-8...</td>\n",
       "    </tr>\n",
       "    <tr>\n",
       "      <th>2</th>\n",
       "      <td>November 03, 2022 03:48 PM</td>\n",
       "      <td>Wilcox</td>\n",
       "      <td>396</td>\n",
       "      <td>0</td>\n",
       "      <td>-83.226,31.845;-83.242,31.845;-83.244,31.845;-...</td>\n",
       "    </tr>\n",
       "    <tr>\n",
       "      <th>3</th>\n",
       "      <td>November 03, 2022 03:48 PM</td>\n",
       "      <td>Berrien</td>\n",
       "      <td>568</td>\n",
       "      <td>0</td>\n",
       "      <td>-83.165,31.127;-83.165,31.127;-83.165,31.127;-...</td>\n",
       "    </tr>\n",
       "    <tr>\n",
       "      <th>4</th>\n",
       "      <td>November 03, 2022 03:48 PM</td>\n",
       "      <td>Tift</td>\n",
       "      <td>635</td>\n",
       "      <td>0</td>\n",
       "      <td>-83.37,31.436;-83.37,31.423;-83.37,31.418;-83....</td>\n",
       "    </tr>\n",
       "    <tr>\n",
       "      <th>5</th>\n",
       "      <td>November 03, 2022 03:48 PM</td>\n",
       "      <td>Turner</td>\n",
       "      <td>2553</td>\n",
       "      <td>1</td>\n",
       "      <td>-83.459,31.725;-83.458,31.724;-83.458,31.723;-...</td>\n",
       "    </tr>\n",
       "    <tr>\n",
       "      <th>6</th>\n",
       "      <td>November 03, 2022 03:48 PM</td>\n",
       "      <td>Ben Hill</td>\n",
       "      <td>3306</td>\n",
       "      <td>1</td>\n",
       "      <td>-83.325,31.747;-83.325,31.748;-83.325,31.75;-8...</td>\n",
       "    </tr>\n",
       "    <tr>\n",
       "      <th>7</th>\n",
       "      <td>November 03, 2022 03:48 PM</td>\n",
       "      <td>Irwin</td>\n",
       "      <td>4936</td>\n",
       "      <td>0</td>\n",
       "      <td>-83.339,31.476;-83.339,31.476;-83.341,31.476;-...</td>\n",
       "    </tr>\n",
       "  </tbody>\n",
       "</table>\n",
       "</div>"
      ],
      "text/plain": [
       "                    timestamp CountyName  CustomersServed  CustomersAffected  \\\n",
       "0  November 03, 2022 03:48 PM      Worth               47                  0   \n",
       "1  November 03, 2022 03:48 PM     Coffee              106                  0   \n",
       "2  November 03, 2022 03:48 PM     Wilcox              396                  0   \n",
       "3  November 03, 2022 03:48 PM    Berrien              568                  0   \n",
       "4  November 03, 2022 03:48 PM       Tift              635                  0   \n",
       "5  November 03, 2022 03:48 PM     Turner             2553                  1   \n",
       "6  November 03, 2022 03:48 PM   Ben Hill             3306                  1   \n",
       "7  November 03, 2022 03:48 PM      Irwin             4936                  0   \n",
       "\n",
       "                                               Shape  \n",
       "0  -83.666,31.468;-83.666,31.458;-83.666,31.452;-...  \n",
       "1  -83.135,31.473;-83.134,31.473;-83.13,31.474;-8...  \n",
       "2  -83.226,31.845;-83.242,31.845;-83.244,31.845;-...  \n",
       "3  -83.165,31.127;-83.165,31.127;-83.165,31.127;-...  \n",
       "4  -83.37,31.436;-83.37,31.423;-83.37,31.418;-83....  \n",
       "5  -83.459,31.725;-83.458,31.724;-83.458,31.723;-...  \n",
       "6  -83.325,31.747;-83.325,31.748;-83.325,31.75;-8...  \n",
       "7  -83.339,31.476;-83.339,31.476;-83.341,31.476;-...  "
      ]
     },
     "execution_count": 7,
     "metadata": {},
     "output_type": "execute_result"
    }
   ],
   "source": [
    "get_layout_3_df(\"http://map.irwinemc.com/omswebmap/OMSWebMap.htm?clientKey=undefined\") #Irwin EMC"
   ]
  }
 ],
 "metadata": {
  "kernelspec": {
   "display_name": "Python 3 (ipykernel)",
   "language": "python",
   "name": "python3"
  },
  "language_info": {
   "codemirror_mode": {
    "name": "ipython",
    "version": 3
   },
   "file_extension": ".py",
   "mimetype": "text/x-python",
   "name": "python",
   "nbconvert_exporter": "python",
   "pygments_lexer": "ipython3",
   "version": "3.9.12"
  }
 },
 "nbformat": 4,
 "nbformat_minor": 5
}
