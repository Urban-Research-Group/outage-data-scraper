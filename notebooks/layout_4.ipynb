{
 "cells": [
  {
   "cell_type": "code",
   "execution_count": 1,
   "id": "b1931c05",
   "metadata": {},
   "outputs": [],
   "source": [
    "import requests\n",
    "from bs4 import BeautifulSoup\n",
    "from selenium import webdriver\n",
    "from selenium.webdriver.common.desired_capabilities import DesiredCapabilities\n",
    "import time\n",
    "import json\n",
    "from dateutil.parser import parse\n",
    "import pandas as pd"
   ]
  },
  {
   "cell_type": "code",
   "execution_count": 2,
   "id": "b72e123d",
   "metadata": {},
   "outputs": [],
   "source": [
    "url = 'https://outagemap.cobbemc.com/reports/02e190b3-64f2-48b0-81ba-295186233695'\n",
    "chrome_driver_path = '/Users/xuanedx1/Desktop/URG/web-scaper/chromedriver'"
   ]
  },
  {
   "cell_type": "code",
   "execution_count": 3,
   "id": "68f8fa2e",
   "metadata": {},
   "outputs": [],
   "source": [
    "def get_logs(url):\n",
    "\n",
    "    desired_capabilities = DesiredCapabilities.CHROME\n",
    "    desired_capabilities[\"goog:loggingPrefs\"] = {\"performance\": \"ALL\"}\n",
    "\n",
    "    # Create the webdriver object and pass the arguments\n",
    "    options = webdriver.ChromeOptions()\n",
    "\n",
    "    # Chrome will start in Headless mode\n",
    "    options.add_argument('headless')\n",
    "\n",
    "    # Ignores any certificate errors if there is any\n",
    "    options.add_argument(\"--ignore-certificate-errors\")\n",
    "\n",
    "    # Startup the chrome webdriver with executable path and\n",
    "    # pass the chrome options and desired capabilities as\n",
    "    # parameters.\n",
    "    driver = webdriver.Chrome(executable_path=chrome_driver_path,\n",
    "                              chrome_options=options,\n",
    "                              desired_capabilities=desired_capabilities)\n",
    "\n",
    "    # Send a request to the website and let it load\n",
    "    driver.get(url)\n",
    "\n",
    "    # Sleeps for 5 seconds\n",
    "    time.sleep(5)\n",
    "\n",
    "    logs_raw = driver.get_log(\"performance\")\n",
    "    logs = [json.loads(lr[\"message\"])[\"message\"] for lr in logs_raw]\n",
    "    \n",
    "    return driver, logs\n"
   ]
  },
  {
   "cell_type": "code",
   "execution_count": 4,
   "id": "7c6ecf5d",
   "metadata": {},
   "outputs": [],
   "source": [
    "def summary_filter(log_):\n",
    "    return (\n",
    "        # is an actual response\n",
    "        log_[\"method\"] == \"Network.responseReceived\"\n",
    "        # and json\n",
    "        and \"json\" in log_[\"params\"][\"response\"][\"mimeType\"]\n",
    "        and \"summary\" in log_[\"params\"][\"response\"][\"url\"]\n",
    "    )\n",
    "\n",
    "def report_filter(log_):\n",
    "    return (\n",
    "        # is an actual response\n",
    "        log_[\"method\"] == \"Network.responseReceived\"\n",
    "        # and json\n",
    "        and \"json\" in log_[\"params\"][\"response\"][\"mimeType\"]\n",
    "        and \"report\" in log_[\"params\"][\"response\"][\"url\"]\n",
    "    )"
   ]
  },
  {
   "cell_type": "code",
   "execution_count": 5,
   "id": "be80835f",
   "metadata": {},
   "outputs": [],
   "source": [
    "def get_layout_4_df(url):\n",
    "    \n",
    "    driver, logs = get_logs(url)\n",
    "    \n",
    "    summary_response = \"\"\n",
    "    for log in filter(summary_filter, logs):\n",
    "        request_id = log[\"params\"][\"requestId\"]\n",
    "        resp_url = log[\"params\"][\"response\"][\"url\"]\n",
    "        print(f\"Caught {resp_url}\")\n",
    "        summary_response = driver.execute_cdp_cmd(\"Network.getResponseBody\", {\"requestId\": request_id})['body']\n",
    "        \n",
    "    summary = json.loads(summary_response)\n",
    "    timestamp = summary['summaryFileData']['date_generated']\n",
    "    \n",
    "    report_response = \"\"\n",
    "    for log in filter(report_filter, logs):\n",
    "        request_id = log[\"params\"][\"requestId\"]\n",
    "        resp_url = log[\"params\"][\"response\"][\"url\"]\n",
    "        print(f\"Caught {resp_url}\")\n",
    "        report_response = driver.execute_cdp_cmd(\"Network.getResponseBody\", {\"requestId\": request_id})['body']\n",
    "        \n",
    "    data = json.loads(report_response)\n",
    "\n",
    "    layout_4_df = pd.DataFrame(columns = ['timestamp', 'zip_code', 'members_affected', 'members_served', 'number_outages'])\n",
    "    for area in data['file_data']['areas']:\n",
    "\n",
    "        row = {}\n",
    "        row['timestamp'] = timestamp\n",
    "        row['zip_code'] = area['name']\n",
    "        row['members_affected'] = area['cust_a']['val']\n",
    "        row['members_served'] = area['cust_s']\n",
    "        row['number_outages'] = area['n_out']\n",
    "\n",
    "        layout_4_df = pd.concat([pd.DataFrame([row]),layout_4_df.loc[:]]).reset_index(drop=True)\n",
    "        \n",
    "    return layout_4_df\n",
    "    \n",
    "    "
   ]
  },
  {
   "cell_type": "code",
   "execution_count": 6,
   "id": "d19dd8e5",
   "metadata": {},
   "outputs": [
    {
     "name": "stderr",
     "output_type": "stream",
     "text": [
      "/var/folders/3j/7cy055ys1yz5dcj9cwbxbw8h0000gp/T/ipykernel_1887/3593499440.py:18: DeprecationWarning: executable_path has been deprecated, please pass in a Service object\n",
      "  driver = webdriver.Chrome(executable_path=chrome_driver_path,\n",
      "/var/folders/3j/7cy055ys1yz5dcj9cwbxbw8h0000gp/T/ipykernel_1887/3593499440.py:18: DeprecationWarning: use options instead of chrome_options\n",
      "  driver = webdriver.Chrome(executable_path=chrome_driver_path,\n"
     ]
    },
    {
     "name": "stdout",
     "output_type": "stream",
     "text": [
      "Caught https://kubra.io/data/87ad9d80-9c38-40cd-9847-686b0ae2769d/public/summary-1/data.json\n"
     ]
    },
    {
     "ename": "JSONDecodeError",
     "evalue": "Expecting value: line 1 column 1 (char 0)",
     "output_type": "error",
     "traceback": [
      "\u001B[0;31m---------------------------------------------------------------------------\u001B[0m",
      "\u001B[0;31mJSONDecodeError\u001B[0m                           Traceback (most recent call last)",
      "Input \u001B[0;32mIn [6]\u001B[0m, in \u001B[0;36m<cell line: 1>\u001B[0;34m()\u001B[0m\n\u001B[0;32m----> 1\u001B[0m \u001B[43mget_layout_4_df\u001B[49m\u001B[43m(\u001B[49m\u001B[43murl\u001B[49m\u001B[43m)\u001B[49m\n",
      "Input \u001B[0;32mIn [5]\u001B[0m, in \u001B[0;36mget_layout_4_df\u001B[0;34m(url)\u001B[0m\n\u001B[1;32m     19\u001B[0m     \u001B[38;5;28mprint\u001B[39m(\u001B[38;5;124mf\u001B[39m\u001B[38;5;124m\"\u001B[39m\u001B[38;5;124mCaught \u001B[39m\u001B[38;5;132;01m{\u001B[39;00mresp_url\u001B[38;5;132;01m}\u001B[39;00m\u001B[38;5;124m\"\u001B[39m)\n\u001B[1;32m     20\u001B[0m     report_response \u001B[38;5;241m=\u001B[39m driver\u001B[38;5;241m.\u001B[39mexecute_cdp_cmd(\u001B[38;5;124m\"\u001B[39m\u001B[38;5;124mNetwork.getResponseBody\u001B[39m\u001B[38;5;124m\"\u001B[39m, {\u001B[38;5;124m\"\u001B[39m\u001B[38;5;124mrequestId\u001B[39m\u001B[38;5;124m\"\u001B[39m: request_id})[\u001B[38;5;124m'\u001B[39m\u001B[38;5;124mbody\u001B[39m\u001B[38;5;124m'\u001B[39m]\n\u001B[0;32m---> 22\u001B[0m data \u001B[38;5;241m=\u001B[39m \u001B[43mjson\u001B[49m\u001B[38;5;241;43m.\u001B[39;49m\u001B[43mloads\u001B[49m\u001B[43m(\u001B[49m\u001B[43mreport_response\u001B[49m\u001B[43m)\u001B[49m\n\u001B[1;32m     24\u001B[0m layout_4_df \u001B[38;5;241m=\u001B[39m pd\u001B[38;5;241m.\u001B[39mDataFrame(columns \u001B[38;5;241m=\u001B[39m [\u001B[38;5;124m'\u001B[39m\u001B[38;5;124mtimestamp\u001B[39m\u001B[38;5;124m'\u001B[39m, \u001B[38;5;124m'\u001B[39m\u001B[38;5;124mzip_code\u001B[39m\u001B[38;5;124m'\u001B[39m, \u001B[38;5;124m'\u001B[39m\u001B[38;5;124mmembers_affected\u001B[39m\u001B[38;5;124m'\u001B[39m, \u001B[38;5;124m'\u001B[39m\u001B[38;5;124mmembers_served\u001B[39m\u001B[38;5;124m'\u001B[39m, \u001B[38;5;124m'\u001B[39m\u001B[38;5;124mnumber_outages\u001B[39m\u001B[38;5;124m'\u001B[39m])\n\u001B[1;32m     25\u001B[0m \u001B[38;5;28;01mfor\u001B[39;00m area \u001B[38;5;129;01min\u001B[39;00m data[\u001B[38;5;124m'\u001B[39m\u001B[38;5;124mfile_data\u001B[39m\u001B[38;5;124m'\u001B[39m][\u001B[38;5;124m'\u001B[39m\u001B[38;5;124mareas\u001B[39m\u001B[38;5;124m'\u001B[39m]:\n",
      "File \u001B[0;32m~/opt/anaconda3/envs/playground/lib/python3.10/json/__init__.py:346\u001B[0m, in \u001B[0;36mloads\u001B[0;34m(s, cls, object_hook, parse_float, parse_int, parse_constant, object_pairs_hook, **kw)\u001B[0m\n\u001B[1;32m    341\u001B[0m     s \u001B[38;5;241m=\u001B[39m s\u001B[38;5;241m.\u001B[39mdecode(detect_encoding(s), \u001B[38;5;124m'\u001B[39m\u001B[38;5;124msurrogatepass\u001B[39m\u001B[38;5;124m'\u001B[39m)\n\u001B[1;32m    343\u001B[0m \u001B[38;5;28;01mif\u001B[39;00m (\u001B[38;5;28mcls\u001B[39m \u001B[38;5;129;01mis\u001B[39;00m \u001B[38;5;28;01mNone\u001B[39;00m \u001B[38;5;129;01mand\u001B[39;00m object_hook \u001B[38;5;129;01mis\u001B[39;00m \u001B[38;5;28;01mNone\u001B[39;00m \u001B[38;5;129;01mand\u001B[39;00m\n\u001B[1;32m    344\u001B[0m         parse_int \u001B[38;5;129;01mis\u001B[39;00m \u001B[38;5;28;01mNone\u001B[39;00m \u001B[38;5;129;01mand\u001B[39;00m parse_float \u001B[38;5;129;01mis\u001B[39;00m \u001B[38;5;28;01mNone\u001B[39;00m \u001B[38;5;129;01mand\u001B[39;00m\n\u001B[1;32m    345\u001B[0m         parse_constant \u001B[38;5;129;01mis\u001B[39;00m \u001B[38;5;28;01mNone\u001B[39;00m \u001B[38;5;129;01mand\u001B[39;00m object_pairs_hook \u001B[38;5;129;01mis\u001B[39;00m \u001B[38;5;28;01mNone\u001B[39;00m \u001B[38;5;129;01mand\u001B[39;00m \u001B[38;5;129;01mnot\u001B[39;00m kw):\n\u001B[0;32m--> 346\u001B[0m     \u001B[38;5;28;01mreturn\u001B[39;00m \u001B[43m_default_decoder\u001B[49m\u001B[38;5;241;43m.\u001B[39;49m\u001B[43mdecode\u001B[49m\u001B[43m(\u001B[49m\u001B[43ms\u001B[49m\u001B[43m)\u001B[49m\n\u001B[1;32m    347\u001B[0m \u001B[38;5;28;01mif\u001B[39;00m \u001B[38;5;28mcls\u001B[39m \u001B[38;5;129;01mis\u001B[39;00m \u001B[38;5;28;01mNone\u001B[39;00m:\n\u001B[1;32m    348\u001B[0m     \u001B[38;5;28mcls\u001B[39m \u001B[38;5;241m=\u001B[39m JSONDecoder\n",
      "File \u001B[0;32m~/opt/anaconda3/envs/playground/lib/python3.10/json/decoder.py:337\u001B[0m, in \u001B[0;36mJSONDecoder.decode\u001B[0;34m(self, s, _w)\u001B[0m\n\u001B[1;32m    332\u001B[0m \u001B[38;5;28;01mdef\u001B[39;00m \u001B[38;5;21mdecode\u001B[39m(\u001B[38;5;28mself\u001B[39m, s, _w\u001B[38;5;241m=\u001B[39mWHITESPACE\u001B[38;5;241m.\u001B[39mmatch):\n\u001B[1;32m    333\u001B[0m     \u001B[38;5;124;03m\"\"\"Return the Python representation of ``s`` (a ``str`` instance\u001B[39;00m\n\u001B[1;32m    334\u001B[0m \u001B[38;5;124;03m    containing a JSON document).\u001B[39;00m\n\u001B[1;32m    335\u001B[0m \n\u001B[1;32m    336\u001B[0m \u001B[38;5;124;03m    \"\"\"\u001B[39;00m\n\u001B[0;32m--> 337\u001B[0m     obj, end \u001B[38;5;241m=\u001B[39m \u001B[38;5;28;43mself\u001B[39;49m\u001B[38;5;241;43m.\u001B[39;49m\u001B[43mraw_decode\u001B[49m\u001B[43m(\u001B[49m\u001B[43ms\u001B[49m\u001B[43m,\u001B[49m\u001B[43m \u001B[49m\u001B[43midx\u001B[49m\u001B[38;5;241;43m=\u001B[39;49m\u001B[43m_w\u001B[49m\u001B[43m(\u001B[49m\u001B[43ms\u001B[49m\u001B[43m,\u001B[49m\u001B[43m \u001B[49m\u001B[38;5;241;43m0\u001B[39;49m\u001B[43m)\u001B[49m\u001B[38;5;241;43m.\u001B[39;49m\u001B[43mend\u001B[49m\u001B[43m(\u001B[49m\u001B[43m)\u001B[49m\u001B[43m)\u001B[49m\n\u001B[1;32m    338\u001B[0m     end \u001B[38;5;241m=\u001B[39m _w(s, end)\u001B[38;5;241m.\u001B[39mend()\n\u001B[1;32m    339\u001B[0m     \u001B[38;5;28;01mif\u001B[39;00m end \u001B[38;5;241m!=\u001B[39m \u001B[38;5;28mlen\u001B[39m(s):\n",
      "File \u001B[0;32m~/opt/anaconda3/envs/playground/lib/python3.10/json/decoder.py:355\u001B[0m, in \u001B[0;36mJSONDecoder.raw_decode\u001B[0;34m(self, s, idx)\u001B[0m\n\u001B[1;32m    353\u001B[0m     obj, end \u001B[38;5;241m=\u001B[39m \u001B[38;5;28mself\u001B[39m\u001B[38;5;241m.\u001B[39mscan_once(s, idx)\n\u001B[1;32m    354\u001B[0m \u001B[38;5;28;01mexcept\u001B[39;00m \u001B[38;5;167;01mStopIteration\u001B[39;00m \u001B[38;5;28;01mas\u001B[39;00m err:\n\u001B[0;32m--> 355\u001B[0m     \u001B[38;5;28;01mraise\u001B[39;00m JSONDecodeError(\u001B[38;5;124m\"\u001B[39m\u001B[38;5;124mExpecting value\u001B[39m\u001B[38;5;124m\"\u001B[39m, s, err\u001B[38;5;241m.\u001B[39mvalue) \u001B[38;5;28;01mfrom\u001B[39;00m \u001B[38;5;28mNone\u001B[39m\n\u001B[1;32m    356\u001B[0m \u001B[38;5;28;01mreturn\u001B[39;00m obj, end\n",
      "\u001B[0;31mJSONDecodeError\u001B[0m: Expecting value: line 1 column 1 (char 0)"
     ]
    }
   ],
   "source": [
    "get_layout_4_df(url)"
   ]
  },
  {
   "cell_type": "code",
   "execution_count": null,
   "outputs": [],
   "source": [],
   "metadata": {
    "collapsed": false
   }
  }
 ],
 "metadata": {
  "kernelspec": {
   "display_name": "Python 3 (ipykernel)",
   "language": "python",
   "name": "python3"
  },
  "language_info": {
   "codemirror_mode": {
    "name": "ipython",
    "version": 3
   },
   "file_extension": ".py",
   "mimetype": "text/x-python",
   "name": "python",
   "nbconvert_exporter": "python",
   "pygments_lexer": "ipython3",
   "version": "3.9.12"
  }
 },
 "nbformat": 4,
 "nbformat_minor": 5
}
