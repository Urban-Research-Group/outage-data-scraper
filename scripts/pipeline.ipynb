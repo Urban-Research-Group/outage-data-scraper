{
 "cells": [
  {
   "cell_type": "markdown",
   "metadata": {},
   "source": [
    "# S3 Download Runbook\n",
    "Runbook for download outage data from S3 buckets. (WIP)"
   ]
  },
  {
   "cell_type": "markdown",
   "metadata": {},
   "source": [
    "1. Install AWS CLI"
   ]
  },
  {
   "cell_type": "code",
   "execution_count": null,
   "metadata": {
    "vscode": {
     "languageId": "powershell"
    }
   },
   "outputs": [],
   "source": [
    "# comment out after 1st run\n",
    "!pip install awscli"
   ]
  },
  {
   "cell_type": "markdown",
   "metadata": {},
   "source": [
    "2. Configure AWS credential if have not:  \n",
    "Run `aws configure` in terminal and follow the prompt."
   ]
  },
  {
   "cell_type": "markdown",
   "metadata": {},
   "source": [
    "3. RUN CLI command to download all files in a state directory, replace path with your own.   \n",
    "E.g. `aws s3 cp s3://BUCKET_NAME/STATE/ LOCAL_DIRECTORY/ --recursive`"
   ]
  },
  {
   "cell_type": "code",
   "execution_count": 26,
   "metadata": {},
   "outputs": [
    {
     "data": {
      "text/plain": [
       "'/Users/xuanedx1/github/outage-data-scraper'"
      ]
     },
     "execution_count": 26,
     "metadata": {},
     "output_type": "execute_result"
    }
   ],
   "source": [
    "# get local directory path, use followed by '/data/s3/state'\n",
    "import os\n",
    "os.path.dirname(os.getcwd())"
   ]
  },
  {
   "cell_type": "code",
   "execution_count": 24,
   "metadata": {
    "vscode": {
     "languageId": "powershell"
    }
   },
   "outputs": [
    {
     "name": "stdout",
     "output_type": "stream",
     "text": [
      "download: s3://urg-power-outage/ca/layout_paloalto/per_zip code_City of Palo Alto.csv to ../data/s3/ca/layout_paloalto/per_zip code_City of Palo Alto.csv\n",
      "download: s3://urg-power-outage/ca/layout_1/per_outage_CA_STATE.csv to ../data/s3/ca/layout_1/per_outage_CA_STATE.csv\n",
      "download: s3://urg-power-outage/ca/layout_investor/per_outage_investor_owned_2.csv to ../data/s3/ca/layout_investor/per_outage_investor_owned_2.csv\n",
      "download: s3://urg-power-outage/ca/layout_investor/per_outage_investor_owned.csv to ../data/s3/ca/layout_investor/per_outage_investor_owned.csv\n",
      "download: s3://urg-power-outage/ca/layout_investor/per_outage_investor_owned_1.csv to ../data/s3/ca/layout_investor/per_outage_investor_owned_1.csv\n"
     ]
    }
   ],
   "source": [
    "! aws s3 cp s3://urg-power-outage/ca/ '/Users/xuanedx1/github/outage-data-scraper/data/s3/ca/' --recursive"
   ]
  },
  {
   "cell_type": "markdown",
   "metadata": {},
   "source": [
    "4. process data.."
   ]
  }
 ],
 "metadata": {
  "kernelspec": {
   "display_name": "Python 3",
   "language": "python",
   "name": "python3"
  },
  "language_info": {
   "codemirror_mode": {
    "name": "ipython",
    "version": 3
   },
   "file_extension": ".py",
   "mimetype": "text/x-python",
   "name": "python",
   "nbconvert_exporter": "python",
   "pygments_lexer": "ipython3",
   "version": "3.8.15"
  },
  "orig_nbformat": 4
 },
 "nbformat": 4,
 "nbformat_minor": 2
}
