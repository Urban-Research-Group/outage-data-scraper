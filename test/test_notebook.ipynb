{
 "cells": [
  {
   "cell_type": "code",
   "execution_count": 1,
   "metadata": {
    "collapsed": true
   },
   "outputs": [],
   "source": [
    "from app.scraper import scraper01, scraper02, scraper04"
   ]
  },
  {
   "cell_type": "code",
   "execution_count": 2,
   "outputs": [
    {
     "ename": "AttributeError",
     "evalue": "'list' object has no attribute 'timeout'",
     "output_type": "error",
     "traceback": [
      "\u001B[0;31m---------------------------------------------------------------------------\u001B[0m",
      "\u001B[0;31mAttributeError\u001B[0m                            Traceback (most recent call last)",
      "Input \u001B[0;32mIn [2]\u001B[0m, in \u001B[0;36m<cell line: 4>\u001B[0;34m()\u001B[0m\n\u001B[1;32m      2\u001B[0m urls \u001B[38;5;241m=\u001B[39m [\u001B[38;5;124m'\u001B[39m\u001B[38;5;124mhttp://74.121.99.238:8081/data/boundaries.json\u001B[39m\u001B[38;5;124m'\u001B[39m]\n\u001B[1;32m      3\u001B[0m scrapper \u001B[38;5;241m=\u001B[39m scraper01\u001B[38;5;241m.\u001B[39mScraperL1(urls)\n\u001B[0;32m----> 4\u001B[0m \u001B[38;5;28mprint\u001B[39m(\u001B[43mscrapper\u001B[49m\u001B[38;5;241;43m.\u001B[39;49m\u001B[43mparse\u001B[49m\u001B[43m(\u001B[49m\u001B[43m)\u001B[49m)\n",
      "File \u001B[0;32m~/github/outage-data-scraper/app/scraper/scraper01.py:18\u001B[0m, in \u001B[0;36mScraperL1.parse\u001B[0;34m(self)\u001B[0m\n\u001B[1;32m     17\u001B[0m \u001B[38;5;28;01mdef\u001B[39;00m \u001B[38;5;21mparse\u001B[39m(\u001B[38;5;28mself\u001B[39m):\n\u001B[0;32m---> 18\u001B[0m     body, status \u001B[38;5;241m=\u001B[39m \u001B[38;5;28;43mself\u001B[39;49m\u001B[38;5;241;43m.\u001B[39;49m\u001B[43mfetch\u001B[49m\u001B[43m(\u001B[49m\u001B[38;5;28;43mself\u001B[39;49m\u001B[38;5;241;43m.\u001B[39;49m\u001B[43murl\u001B[49m\u001B[43m)\u001B[49m\n\u001B[1;32m     19\u001B[0m     data \u001B[38;5;241m=\u001B[39m json\u001B[38;5;241m.\u001B[39mloads(body)\n\u001B[1;32m     20\u001B[0m     df \u001B[38;5;241m=\u001B[39m pd\u001B[38;5;241m.\u001B[39mDataFrame(data[\u001B[38;5;241m0\u001B[39m][\u001B[38;5;124m'\u001B[39m\u001B[38;5;124mboundaries\u001B[39m\u001B[38;5;124m'\u001B[39m])\n",
      "File \u001B[0;32m~/github/outage-data-scraper/app/scraper/base.py:20\u001B[0m, in \u001B[0;36mBaseScraper.fetch\u001B[0;34m(self, url)\u001B[0m\n\u001B[1;32m     14\u001B[0m \u001B[38;5;124;03m\"\"\"\u001B[39;00m\n\u001B[1;32m     15\u001B[0m \u001B[38;5;124;03mmake a GET request to the url\u001B[39;00m\n\u001B[1;32m     16\u001B[0m \u001B[38;5;124;03m:param url:\u001B[39;00m\n\u001B[1;32m     17\u001B[0m \u001B[38;5;124;03m:return: body, status\u001B[39;00m\n\u001B[1;32m     18\u001B[0m \u001B[38;5;124;03m\"\"\"\u001B[39;00m\n\u001B[1;32m     19\u001B[0m \u001B[38;5;28;01mtry\u001B[39;00m:\n\u001B[0;32m---> 20\u001B[0m     \u001B[38;5;28;01mwith\u001B[39;00m \u001B[43murlopen\u001B[49m\u001B[43m(\u001B[49m\u001B[43murl\u001B[49m\u001B[43m,\u001B[49m\u001B[43m \u001B[49m\u001B[43mtimeout\u001B[49m\u001B[38;5;241;43m=\u001B[39;49m\u001B[38;5;241;43m10\u001B[39;49m\u001B[43m)\u001B[49m \u001B[38;5;28;01mas\u001B[39;00m response:\n\u001B[1;32m     21\u001B[0m         \u001B[38;5;28mprint\u001B[39m(response\u001B[38;5;241m.\u001B[39mstatus)\n\u001B[1;32m     22\u001B[0m         \u001B[38;5;28;01mreturn\u001B[39;00m response\u001B[38;5;241m.\u001B[39mread(), response\u001B[38;5;241m.\u001B[39mstatus\n",
      "File \u001B[0;32m~/opt/anaconda3/envs/playground/lib/python3.10/urllib/request.py:216\u001B[0m, in \u001B[0;36murlopen\u001B[0;34m(url, data, timeout, cafile, capath, cadefault, context)\u001B[0m\n\u001B[1;32m    214\u001B[0m \u001B[38;5;28;01melse\u001B[39;00m:\n\u001B[1;32m    215\u001B[0m     opener \u001B[38;5;241m=\u001B[39m _opener\n\u001B[0;32m--> 216\u001B[0m \u001B[38;5;28;01mreturn\u001B[39;00m \u001B[43mopener\u001B[49m\u001B[38;5;241;43m.\u001B[39;49m\u001B[43mopen\u001B[49m\u001B[43m(\u001B[49m\u001B[43murl\u001B[49m\u001B[43m,\u001B[49m\u001B[43m \u001B[49m\u001B[43mdata\u001B[49m\u001B[43m,\u001B[49m\u001B[43m \u001B[49m\u001B[43mtimeout\u001B[49m\u001B[43m)\u001B[49m\n",
      "File \u001B[0;32m~/opt/anaconda3/envs/playground/lib/python3.10/urllib/request.py:509\u001B[0m, in \u001B[0;36mOpenerDirector.open\u001B[0;34m(self, fullurl, data, timeout)\u001B[0m\n\u001B[1;32m    506\u001B[0m     \u001B[38;5;28;01mif\u001B[39;00m data \u001B[38;5;129;01mis\u001B[39;00m \u001B[38;5;129;01mnot\u001B[39;00m \u001B[38;5;28;01mNone\u001B[39;00m:\n\u001B[1;32m    507\u001B[0m         req\u001B[38;5;241m.\u001B[39mdata \u001B[38;5;241m=\u001B[39m data\n\u001B[0;32m--> 509\u001B[0m req\u001B[38;5;241m.\u001B[39mtimeout \u001B[38;5;241m=\u001B[39m timeout\n\u001B[1;32m    510\u001B[0m protocol \u001B[38;5;241m=\u001B[39m req\u001B[38;5;241m.\u001B[39mtype\n\u001B[1;32m    512\u001B[0m \u001B[38;5;66;03m# pre-process request\u001B[39;00m\n",
      "\u001B[0;31mAttributeError\u001B[0m: 'list' object has no attribute 'timeout'"
     ]
    }
   ],
   "source": [
    "# Washington EMC\n",
    "urls = ['http://74.121.99.238:8081/data/boundaries.json']\n",
    "scrapper = scraper01.ScraperL1(urls)\n",
    "print(scrapper.parse())"
   ],
   "metadata": {
    "collapsed": false
   }
  },
  {
   "cell_type": "code",
   "execution_count": null,
   "outputs": [],
   "source": [
    "# Rayle EMC\n",
    "scrapper = scraper01.ScraperL1('http://outage.rayleemc.com:82/data/outages.json')\n",
    "print(scrapper.parse())\n",
    "\n",
    "scrapper = scraper01.ScraperL1('http://outage.rayleemc.com:82/data/outageSummary.json')\n",
    "print(scrapper.parse())"
   ],
   "metadata": {
    "collapsed": false
   }
  },
  {
   "cell_type": "code",
   "execution_count": 12,
   "outputs": [
    {
     "name": "stdout",
     "output_type": "stream",
     "text": [
      "200\n",
      "        name  customersAffected  customersOutNow  customersServed\n",
      "0       Leon                  0                0                1\n",
      "1    Gadsden                  0                0               19\n",
      "2   Mitchell                  0                0               79\n",
      "3      Grady                  0                0            10786\n",
      "4    Decatur                  0                0             5134\n",
      "5   Colquitt                  0                0               83\n",
      "6     Brooks                  0                0               98\n",
      "7     Thomas                  0                0             7009\n",
      "8  Jefferson                  0                0                9\n"
     ]
    }
   ],
   "source": [
    "# Grady EMC\n",
    "scrapper = scraper01.ScraperL1('http://outage.gradyemc.com:7576/data/boundaries.json')\n",
    "print(scrapper.parse())"
   ],
   "metadata": {
    "collapsed": false
   }
  },
  {
   "cell_type": "code",
   "execution_count": null,
   "outputs": [],
   "source": [],
   "metadata": {
    "collapsed": false
   }
  }
 ],
 "metadata": {
  "kernelspec": {
   "display_name": "Python 3",
   "language": "python",
   "name": "python3"
  },
  "language_info": {
   "codemirror_mode": {
    "name": "ipython",
    "version": 2
   },
   "file_extension": ".py",
   "mimetype": "text/x-python",
   "name": "python",
   "nbconvert_exporter": "python",
   "pygments_lexer": "ipython2",
   "version": "2.7.6"
  }
 },
 "nbformat": 4,
 "nbformat_minor": 0
}
